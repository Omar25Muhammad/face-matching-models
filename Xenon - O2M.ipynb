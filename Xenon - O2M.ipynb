{
 "cells": [
  {
   "cell_type": "code",
   "execution_count": 57,
   "metadata": {},
   "outputs": [
    {
     "name": "stderr",
     "output_type": "stream",
     "text": [
      "\n",
      "[notice] A new release of pip is available: 23.2.1 -> 24.0\n",
      "[notice] To update, run: python.exe -m pip install --upgrade pip\n"
     ]
    },
    {
     "name": "stdout",
     "output_type": "stream",
     "text": [
      "Collecting redis\n",
      "  Obtaining dependency information for redis from https://files.pythonhosted.org/packages/0b/34/a01250ac1fc9bf9161e07956d2d580413106ce02d5591470130a25c599e3/redis-5.0.1-py3-none-any.whl.metadata\n",
      "  Downloading redis-5.0.1-py3-none-any.whl.metadata (8.9 kB)\n",
      "Downloading redis-5.0.1-py3-none-any.whl (250 kB)\n",
      "   ---------------------------------------- 0.0/250.3 kB ? eta -:--:--\n",
      "   ------ -------------------------------- 41.0/250.3 kB 991.0 kB/s eta 0:00:01\n",
      "   ------------------ --------------------- 112.6/250.3 kB 1.6 MB/s eta 0:00:01\n",
      "   --------------------------- ------------ 174.1/250.3 kB 1.3 MB/s eta 0:00:01\n",
      "   ------------------------------------ --- 225.3/250.3 kB 1.3 MB/s eta 0:00:01\n",
      "   ---------------------------------------- 250.3/250.3 kB 1.1 MB/s eta 0:00:00\n",
      "Installing collected packages: redis\n",
      "Successfully installed redis-5.0.1\n"
     ]
    }
   ],
   "source": [
    "!pip install redis"
   ]
  },
  {
   "cell_type": "code",
   "execution_count": 6,
   "metadata": {},
   "outputs": [],
   "source": [
    "import redis\n",
    "import os\n",
    "from deepface import DeepFace\n",
    "import numpy as np"
   ]
  },
  {
   "cell_type": "markdown",
   "metadata": {},
   "source": [
    "Redis Database on Redis Cloud\n"
   ]
  },
  {
   "cell_type": "code",
   "execution_count": 7,
   "metadata": {},
   "outputs": [],
   "source": [
    "r = redis.Redis(\n",
    "    host=\"redis-16765.c1.us-central1-2.gce.cloud.redislabs.com\",\n",
    "    port=16765,\n",
    "    password=\"0iZGj6DxsJq8bjZ2NhctmWBpCPvX0Hu7\",\n",
    "    ssl=False,\n",
    ")"
   ]
  },
  {
   "cell_type": "markdown",
   "metadata": {},
   "source": [
    "Redis Database on My Local (Ubuntu 22.04)\n"
   ]
  },
  {
   "cell_type": "code",
   "execution_count": 4,
   "metadata": {},
   "outputs": [],
   "source": [
    "r = redis.Redis(\n",
    "    host=\"10.101.0.12\",\n",
    "    port=6380,\n",
    "    # password=\"0iZGj6DxsJq8bjZ2NhctmWBpCPvX0Hu7\",\n",
    "    ssl=False,\n",
    ")"
   ]
  },
  {
   "cell_type": "code",
   "execution_count": 8,
   "metadata": {},
   "outputs": [
    {
     "data": {
      "text/plain": [
       "True"
      ]
     },
     "execution_count": 8,
     "metadata": {},
     "output_type": "execute_result"
    }
   ],
   "source": [
    "r.ping()"
   ]
  },
  {
   "cell_type": "code",
   "execution_count": 9,
   "metadata": {},
   "outputs": [],
   "source": [
    "embeddings = []\n",
    "for dirpath, dirnames, filenames in os.walk(\"C:/Users/lenovo/Downloads/test_dataset/\"):\n",
    "    for filename in filenames:\n",
    "        img_path = f\"{dirpath}{filename}\"\n",
    "        if \".jpg\" in img_path:\n",
    "            # print(img_path)\n",
    "            embedding = DeepFace.represent(\n",
    "                img_path=img_path, detector_backend=\"yolov8\"\n",
    "            )[0][\"embedding\"]\n",
    "            embeddings.append((img_path, embedding))"
   ]
  },
  {
   "cell_type": "code",
   "execution_count": 10,
   "metadata": {},
   "outputs": [
    {
     "data": {
      "text/plain": [
       "['C:', 'Users', 'lenovo', 'Downloads', 'test_dataset', 'moad.jpg']"
      ]
     },
     "execution_count": 10,
     "metadata": {},
     "output_type": "execute_result"
    }
   ],
   "source": [
    "embeddings[1][0].split(\"/\")"
   ]
  },
  {
   "cell_type": "code",
   "execution_count": 11,
   "metadata": {},
   "outputs": [
    {
     "data": {
      "text/plain": [
       "8"
      ]
     },
     "execution_count": 11,
     "metadata": {},
     "output_type": "execute_result"
    }
   ],
   "source": [
    "len(embeddings)"
   ]
  },
  {
   "cell_type": "code",
   "execution_count": 12,
   "metadata": {},
   "outputs": [],
   "source": [
    "pipeline = r.pipeline(transaction=False)\n",
    "for img_path, embedding in embeddings:\n",
    "    key = img_path.split(\"/\")[-1]\n",
    "    value = np.array(embedding).astype(np.float32).tobytes()\n",
    "\n",
    "    pipeline.hset(key, mapping={\"embedding\": value, \"NAME\": \"Omar\"})\n",
    "\n",
    "pipeline_result = pipeline.execute()"
   ]
  },
  {
   "cell_type": "code",
   "execution_count": 6,
   "metadata": {},
   "outputs": [],
   "source": [
    "from redis.commands.search.field import VectorField"
   ]
  },
  {
   "cell_type": "code",
   "execution_count": 485,
   "metadata": {},
   "outputs": [
    {
     "data": {
      "text/plain": [
       "2622"
      ]
     },
     "execution_count": 485,
     "metadata": {},
     "output_type": "execute_result"
    }
   ],
   "source": [
    "len(embeddings[0][1])"
   ]
  },
  {
   "cell_type": "code",
   "execution_count": 7,
   "metadata": {},
   "outputs": [
    {
     "ename": "TypeError",
     "evalue": "SearchCommands.info() takes 1 positional argument but 3 were given",
     "output_type": "error",
     "traceback": [
      "\u001b[1;31m---------------------------------------------------------------------------\u001b[0m",
      "\u001b[1;31mTypeError\u001b[0m                                 Traceback (most recent call last)",
      "Cell \u001b[1;32mIn[7], line 1\u001b[0m\n\u001b[1;32m----> 1\u001b[0m \u001b[43mr\u001b[49m\u001b[38;5;241;43m.\u001b[39;49m\u001b[43mft\u001b[49m\u001b[43m(\u001b[49m\u001b[43m)\u001b[49m\u001b[38;5;241;43m.\u001b[39;49m\u001b[43minfo\u001b[49m\u001b[43m(\u001b[49m\u001b[38;5;124;43m\"\u001b[39;49m\u001b[38;5;124;43mINDEX\u001b[39;49m\u001b[38;5;124;43m\"\u001b[39;49m\u001b[43m,\u001b[49m\u001b[43m \u001b[49m\u001b[38;5;124;43m\"\u001b[39;49m\u001b[38;5;124;43midx\u001b[39;49m\u001b[38;5;124;43m\"\u001b[39;49m\u001b[43m)\u001b[49m\n",
      "\u001b[1;31mTypeError\u001b[0m: SearchCommands.info() takes 1 positional argument but 3 were given"
     ]
    }
   ],
   "source": [
    "r.ft().info(\"INDEX\", \"idx\")"
   ]
  },
  {
   "cell_type": "code",
   "execution_count": 8,
   "metadata": {},
   "outputs": [
    {
     "data": {
      "text/plain": [
       "b'OK'"
      ]
     },
     "execution_count": 8,
     "metadata": {},
     "output_type": "execute_result"
    }
   ],
   "source": [
    "# Clear existing index\n",
    "r.execute_command(\"FT.DROPINDEX\", \"idx\")"
   ]
  },
  {
   "cell_type": "code",
   "execution_count": 492,
   "metadata": {},
   "outputs": [
    {
     "data": {
      "text/plain": [
       "{'index_name': 'idx',\n",
       " 'index_options': [],\n",
       " 'index_definition': [b'key_type',\n",
       "  b'HASH',\n",
       "  b'prefixes',\n",
       "  [b''],\n",
       "  b'default_score',\n",
       "  b'1'],\n",
       " 'attributes': [[b'identifier',\n",
       "   b'embedding',\n",
       "   b'attribute',\n",
       "   b'embedding',\n",
       "   b'type',\n",
       "   b'VECTOR',\n",
       "   b'algorithm',\n",
       "   b'HNSW',\n",
       "   b'data_type',\n",
       "   b'FLOAT32',\n",
       "   b'dim',\n",
       "   2622,\n",
       "   b'distance_metric',\n",
       "   b'L2',\n",
       "   b'M',\n",
       "   16,\n",
       "   b'ef_construction',\n",
       "   200]],\n",
       " 'num_docs': '8',\n",
       " 'max_doc_id': '8',\n",
       " 'num_terms': '0',\n",
       " 'num_records': '8',\n",
       " 'inverted_sz_mb': '0',\n",
       " 'vector_index_sz_mb': '2.9943456649780273',\n",
       " 'total_inverted_index_blocks': '0',\n",
       " 'offset_vectors_sz_mb': '0',\n",
       " 'doc_table_size_mb': '7.524490356445313e-4',\n",
       " 'sortable_values_size_mb': '0',\n",
       " 'key_table_size_mb': '3.0422210693359375e-4',\n",
       " 'geoshapes_sz_mb': '0',\n",
       " 'records_per_doc_avg': '1',\n",
       " 'bytes_per_record_avg': '0',\n",
       " 'offsets_per_term_avg': '0',\n",
       " 'offset_bits_per_record_avg': 'nan',\n",
       " 'hash_indexing_failures': '0',\n",
       " 'total_indexing_time': '0.35899999737739563',\n",
       " 'indexing': '0',\n",
       " 'percent_indexed': '1',\n",
       " 'number_of_uses': 1,\n",
       " 'cleaning': 0,\n",
       " 'gc_stats': [b'bytes_collected',\n",
       "  b'0',\n",
       "  b'total_ms_run',\n",
       "  b'0',\n",
       "  b'total_cycles',\n",
       "  b'0',\n",
       "  b'average_cycle_time_ms',\n",
       "  b'nan',\n",
       "  b'last_run_time_ms',\n",
       "  b'0',\n",
       "  b'gc_numeric_trees_missed',\n",
       "  b'0',\n",
       "  b'gc_blocks_denied',\n",
       "  b'0'],\n",
       " 'cursor_stats': [b'global_idle',\n",
       "  0,\n",
       "  b'global_total',\n",
       "  0,\n",
       "  b'index_capacity',\n",
       "  128,\n",
       "  b'index_total',\n",
       "  0],\n",
       " 'dialect_stats': [b'dialect_1',\n",
       "  0,\n",
       "  b'dialect_2',\n",
       "  0,\n",
       "  b'dialect_3',\n",
       "  0,\n",
       "  b'dialect_4',\n",
       "  0],\n",
       " 'Index Errors': [b'indexing failures',\n",
       "  0,\n",
       "  b'last indexing error',\n",
       "  b'N/A',\n",
       "  b'last indexing error key',\n",
       "  b'N/A'],\n",
       " 'field statistics': [[b'identifier',\n",
       "   b'embedding',\n",
       "   b'attribute',\n",
       "   b'embedding',\n",
       "   b'Index Errors',\n",
       "   [b'indexing failures',\n",
       "    0,\n",
       "    b'last indexing error',\n",
       "    b'N/A',\n",
       "    b'last indexing error key',\n",
       "    b'N/A']]]}"
      ]
     },
     "execution_count": 492,
     "metadata": {},
     "output_type": "execute_result"
    }
   ],
   "source": [
    "r.ft().info()"
   ]
  },
  {
   "cell_type": "code",
   "execution_count": 490,
   "metadata": {},
   "outputs": [
    {
     "data": {
      "text/plain": [
       "b'OK'"
      ]
     },
     "execution_count": 490,
     "metadata": {},
     "output_type": "execute_result"
    }
   ],
   "source": [
    "r.ft().create_index(\n",
    "    [\n",
    "        VectorField(\n",
    "            \"embedding\",\n",
    "            \"HNSW\",\n",
    "            {\n",
    "                \"TYPE\": \"FLOAT32\",\n",
    "                \"DIM\": 2622,\n",
    "                \"DISTANCE_METRIC\": \"L2\",\n",
    "            },\n",
    "        )\n",
    "    ]\n",
    ")"
   ]
  },
  {
   "cell_type": "code",
   "execution_count": 491,
   "metadata": {},
   "outputs": [
    {
     "ename": "ResponseError",
     "evalue": "unknown command 'FT.LIST'",
     "output_type": "error",
     "traceback": [
      "\u001b[1;31m---------------------------------------------------------------------------\u001b[0m",
      "\u001b[1;31mResponseError\u001b[0m                             Traceback (most recent call last)",
      "Cell \u001b[1;32mIn[491], line 1\u001b[0m\n\u001b[1;32m----> 1\u001b[0m \u001b[43mr\u001b[49m\u001b[38;5;241;43m.\u001b[39;49m\u001b[43mexecute_command\u001b[49m\u001b[43m(\u001b[49m\u001b[38;5;124;43m'\u001b[39;49m\u001b[38;5;124;43mFT.LIST\u001b[39;49m\u001b[38;5;124;43m'\u001b[39;49m\u001b[43m)\u001b[49m\n",
      "File \u001b[1;32mc:\\Python311\\Lib\\site-packages\\redis\\client.py:536\u001b[0m, in \u001b[0;36mRedis.execute_command\u001b[1;34m(self, *args, **options)\u001b[0m\n\u001b[0;32m    533\u001b[0m conn \u001b[38;5;241m=\u001b[39m \u001b[38;5;28mself\u001b[39m\u001b[38;5;241m.\u001b[39mconnection \u001b[38;5;129;01mor\u001b[39;00m pool\u001b[38;5;241m.\u001b[39mget_connection(command_name, \u001b[38;5;241m*\u001b[39m\u001b[38;5;241m*\u001b[39moptions)\n\u001b[0;32m    535\u001b[0m \u001b[38;5;28;01mtry\u001b[39;00m:\n\u001b[1;32m--> 536\u001b[0m     \u001b[38;5;28;01mreturn\u001b[39;00m \u001b[43mconn\u001b[49m\u001b[38;5;241;43m.\u001b[39;49m\u001b[43mretry\u001b[49m\u001b[38;5;241;43m.\u001b[39;49m\u001b[43mcall_with_retry\u001b[49m\u001b[43m(\u001b[49m\n\u001b[0;32m    537\u001b[0m \u001b[43m        \u001b[49m\u001b[38;5;28;43;01mlambda\u001b[39;49;00m\u001b[43m:\u001b[49m\u001b[43m \u001b[49m\u001b[38;5;28;43mself\u001b[39;49m\u001b[38;5;241;43m.\u001b[39;49m\u001b[43m_send_command_parse_response\u001b[49m\u001b[43m(\u001b[49m\n\u001b[0;32m    538\u001b[0m \u001b[43m            \u001b[49m\u001b[43mconn\u001b[49m\u001b[43m,\u001b[49m\u001b[43m \u001b[49m\u001b[43mcommand_name\u001b[49m\u001b[43m,\u001b[49m\u001b[43m \u001b[49m\u001b[38;5;241;43m*\u001b[39;49m\u001b[43margs\u001b[49m\u001b[43m,\u001b[49m\u001b[43m \u001b[49m\u001b[38;5;241;43m*\u001b[39;49m\u001b[38;5;241;43m*\u001b[39;49m\u001b[43moptions\u001b[49m\n\u001b[0;32m    539\u001b[0m \u001b[43m        \u001b[49m\u001b[43m)\u001b[49m\u001b[43m,\u001b[49m\n\u001b[0;32m    540\u001b[0m \u001b[43m        \u001b[49m\u001b[38;5;28;43;01mlambda\u001b[39;49;00m\u001b[43m \u001b[49m\u001b[43merror\u001b[49m\u001b[43m:\u001b[49m\u001b[43m \u001b[49m\u001b[38;5;28;43mself\u001b[39;49m\u001b[38;5;241;43m.\u001b[39;49m\u001b[43m_disconnect_raise\u001b[49m\u001b[43m(\u001b[49m\u001b[43mconn\u001b[49m\u001b[43m,\u001b[49m\u001b[43m \u001b[49m\u001b[43merror\u001b[49m\u001b[43m)\u001b[49m\u001b[43m,\u001b[49m\n\u001b[0;32m    541\u001b[0m \u001b[43m    \u001b[49m\u001b[43m)\u001b[49m\n\u001b[0;32m    542\u001b[0m \u001b[38;5;28;01mfinally\u001b[39;00m:\n\u001b[0;32m    543\u001b[0m     \u001b[38;5;28;01mif\u001b[39;00m \u001b[38;5;129;01mnot\u001b[39;00m \u001b[38;5;28mself\u001b[39m\u001b[38;5;241m.\u001b[39mconnection:\n",
      "File \u001b[1;32mc:\\Python311\\Lib\\site-packages\\redis\\retry.py:46\u001b[0m, in \u001b[0;36mRetry.call_with_retry\u001b[1;34m(self, do, fail)\u001b[0m\n\u001b[0;32m     44\u001b[0m \u001b[38;5;28;01mwhile\u001b[39;00m \u001b[38;5;28;01mTrue\u001b[39;00m:\n\u001b[0;32m     45\u001b[0m     \u001b[38;5;28;01mtry\u001b[39;00m:\n\u001b[1;32m---> 46\u001b[0m         \u001b[38;5;28;01mreturn\u001b[39;00m \u001b[43mdo\u001b[49m\u001b[43m(\u001b[49m\u001b[43m)\u001b[49m\n\u001b[0;32m     47\u001b[0m     \u001b[38;5;28;01mexcept\u001b[39;00m \u001b[38;5;28mself\u001b[39m\u001b[38;5;241m.\u001b[39m_supported_errors \u001b[38;5;28;01mas\u001b[39;00m error:\n\u001b[0;32m     48\u001b[0m         failures \u001b[38;5;241m+\u001b[39m\u001b[38;5;241m=\u001b[39m \u001b[38;5;241m1\u001b[39m\n",
      "File \u001b[1;32mc:\\Python311\\Lib\\site-packages\\redis\\client.py:537\u001b[0m, in \u001b[0;36mRedis.execute_command.<locals>.<lambda>\u001b[1;34m()\u001b[0m\n\u001b[0;32m    533\u001b[0m conn \u001b[38;5;241m=\u001b[39m \u001b[38;5;28mself\u001b[39m\u001b[38;5;241m.\u001b[39mconnection \u001b[38;5;129;01mor\u001b[39;00m pool\u001b[38;5;241m.\u001b[39mget_connection(command_name, \u001b[38;5;241m*\u001b[39m\u001b[38;5;241m*\u001b[39moptions)\n\u001b[0;32m    535\u001b[0m \u001b[38;5;28;01mtry\u001b[39;00m:\n\u001b[0;32m    536\u001b[0m     \u001b[38;5;28;01mreturn\u001b[39;00m conn\u001b[38;5;241m.\u001b[39mretry\u001b[38;5;241m.\u001b[39mcall_with_retry(\n\u001b[1;32m--> 537\u001b[0m         \u001b[38;5;28;01mlambda\u001b[39;00m: \u001b[38;5;28;43mself\u001b[39;49m\u001b[38;5;241;43m.\u001b[39;49m\u001b[43m_send_command_parse_response\u001b[49m\u001b[43m(\u001b[49m\n\u001b[0;32m    538\u001b[0m \u001b[43m            \u001b[49m\u001b[43mconn\u001b[49m\u001b[43m,\u001b[49m\u001b[43m \u001b[49m\u001b[43mcommand_name\u001b[49m\u001b[43m,\u001b[49m\u001b[43m \u001b[49m\u001b[38;5;241;43m*\u001b[39;49m\u001b[43margs\u001b[49m\u001b[43m,\u001b[49m\u001b[43m \u001b[49m\u001b[38;5;241;43m*\u001b[39;49m\u001b[38;5;241;43m*\u001b[39;49m\u001b[43moptions\u001b[49m\n\u001b[0;32m    539\u001b[0m \u001b[43m        \u001b[49m\u001b[43m)\u001b[49m,\n\u001b[0;32m    540\u001b[0m         \u001b[38;5;28;01mlambda\u001b[39;00m error: \u001b[38;5;28mself\u001b[39m\u001b[38;5;241m.\u001b[39m_disconnect_raise(conn, error),\n\u001b[0;32m    541\u001b[0m     )\n\u001b[0;32m    542\u001b[0m \u001b[38;5;28;01mfinally\u001b[39;00m:\n\u001b[0;32m    543\u001b[0m     \u001b[38;5;28;01mif\u001b[39;00m \u001b[38;5;129;01mnot\u001b[39;00m \u001b[38;5;28mself\u001b[39m\u001b[38;5;241m.\u001b[39mconnection:\n",
      "File \u001b[1;32mc:\\Python311\\Lib\\site-packages\\redis\\client.py:513\u001b[0m, in \u001b[0;36mRedis._send_command_parse_response\u001b[1;34m(self, conn, command_name, *args, **options)\u001b[0m\n\u001b[0;32m    509\u001b[0m \u001b[38;5;250m\u001b[39m\u001b[38;5;124;03m\"\"\"\u001b[39;00m\n\u001b[0;32m    510\u001b[0m \u001b[38;5;124;03mSend a command and parse the response\u001b[39;00m\n\u001b[0;32m    511\u001b[0m \u001b[38;5;124;03m\"\"\"\u001b[39;00m\n\u001b[0;32m    512\u001b[0m conn\u001b[38;5;241m.\u001b[39msend_command(\u001b[38;5;241m*\u001b[39margs)\n\u001b[1;32m--> 513\u001b[0m \u001b[38;5;28;01mreturn\u001b[39;00m \u001b[38;5;28;43mself\u001b[39;49m\u001b[38;5;241;43m.\u001b[39;49m\u001b[43mparse_response\u001b[49m\u001b[43m(\u001b[49m\u001b[43mconn\u001b[49m\u001b[43m,\u001b[49m\u001b[43m \u001b[49m\u001b[43mcommand_name\u001b[49m\u001b[43m,\u001b[49m\u001b[43m \u001b[49m\u001b[38;5;241;43m*\u001b[39;49m\u001b[38;5;241;43m*\u001b[39;49m\u001b[43moptions\u001b[49m\u001b[43m)\u001b[49m\n",
      "File \u001b[1;32mc:\\Python311\\Lib\\site-packages\\redis\\client.py:553\u001b[0m, in \u001b[0;36mRedis.parse_response\u001b[1;34m(self, connection, command_name, **options)\u001b[0m\n\u001b[0;32m    551\u001b[0m         options\u001b[38;5;241m.\u001b[39mpop(NEVER_DECODE)\n\u001b[0;32m    552\u001b[0m     \u001b[38;5;28;01melse\u001b[39;00m:\n\u001b[1;32m--> 553\u001b[0m         response \u001b[38;5;241m=\u001b[39m \u001b[43mconnection\u001b[49m\u001b[38;5;241;43m.\u001b[39;49m\u001b[43mread_response\u001b[49m\u001b[43m(\u001b[49m\u001b[43m)\u001b[49m\n\u001b[0;32m    554\u001b[0m \u001b[38;5;28;01mexcept\u001b[39;00m ResponseError:\n\u001b[0;32m    555\u001b[0m     \u001b[38;5;28;01mif\u001b[39;00m EMPTY_RESPONSE \u001b[38;5;129;01min\u001b[39;00m options:\n",
      "File \u001b[1;32mc:\\Python311\\Lib\\site-packages\\redis\\connection.py:524\u001b[0m, in \u001b[0;36mAbstractConnection.read_response\u001b[1;34m(self, disable_decoding, disconnect_on_error, push_request)\u001b[0m\n\u001b[0;32m    522\u001b[0m \u001b[38;5;28;01mif\u001b[39;00m \u001b[38;5;28misinstance\u001b[39m(response, ResponseError):\n\u001b[0;32m    523\u001b[0m     \u001b[38;5;28;01mtry\u001b[39;00m:\n\u001b[1;32m--> 524\u001b[0m         \u001b[38;5;28;01mraise\u001b[39;00m response\n\u001b[0;32m    525\u001b[0m     \u001b[38;5;28;01mfinally\u001b[39;00m:\n\u001b[0;32m    526\u001b[0m         \u001b[38;5;28;01mdel\u001b[39;00m response  \u001b[38;5;66;03m# avoid creating ref cycles\u001b[39;00m\n",
      "\u001b[1;31mResponseError\u001b[0m: unknown command 'FT.LIST'"
     ]
    }
   ],
   "source": [
    "r.execute_command(\"FT.LIST\")"
   ]
  },
  {
   "cell_type": "code",
   "execution_count": 424,
   "metadata": {},
   "outputs": [],
   "source": [
    "target_img = r\"C:\\Users\\lenovo\\Downloads\\dbs\\omar.jpg\""
   ]
  },
  {
   "cell_type": "code",
   "execution_count": 425,
   "metadata": {},
   "outputs": [],
   "source": [
    "target_embedding = DeepFace.represent(img_path=target_img, detector_backend=\"yolov8\")[\n",
    "    0\n",
    "][\"embedding\"]"
   ]
  },
  {
   "cell_type": "code",
   "execution_count": 426,
   "metadata": {},
   "outputs": [],
   "source": [
    "query_vector = np.array(target_embedding).astype(np.float32).tobytes()"
   ]
  },
  {
   "cell_type": "code",
   "execution_count": 420,
   "metadata": {},
   "outputs": [],
   "source": [
    "from redis.commands.search.query import Query"
   ]
  },
  {
   "cell_type": "code",
   "execution_count": 430,
   "metadata": {},
   "outputs": [],
   "source": [
    "k = 8\n",
    "base_query = f\"*=>[KNN {k} @embedding $query_vector AS distance]\"\n",
    "query = Query(base_query).return_fields(\"distance\").sort_by(\"distance\").dialect(2)\n",
    "results = r.ft().search(query, query_params={\"query_vector\": query_vector})"
   ]
  },
  {
   "cell_type": "code",
   "execution_count": 460,
   "metadata": {},
   "outputs": [
    {
     "name": "stdout",
     "output_type": "stream",
     "text": [
      "Document {'id': 'WhatsApp Image 2024-01-30 at 20.15.32_09726ec2.jpg', 'payload': None, 'distance': '0.111752577126'}\n",
      "Document {'id': 'WhatsApp Image 2024-01-29 at 22.12.45_43ccb782.jpg', 'payload': None, 'distance': '0.12307536602'}\n",
      "Document {'id': 'WhatsApp Image 2024-01-29 at 22.12.45_219fe705.jpg', 'payload': None, 'distance': '0.139388933778'}\n",
      "Document {'id': 'moad_pass.jpg', 'payload': None, 'distance': '0.163798689842'}\n",
      "Document {'id': '20240123_203124.jpg', 'payload': None, 'distance': '0.165776208043'}\n",
      "Document {'id': 'WhatsApp Image 2024-01-10 at 11.04.14_0380b28b.jpg', 'payload': None, 'distance': '0.241512924433'}\n",
      "Document {'id': 'moad.jpg', 'payload': None, 'distance': '0.268328905106'}\n",
      "Document {'id': 'omar_moad.jpg', 'payload': None, 'distance': '0.434868633747'}\n"
     ]
    }
   ],
   "source": [
    "for result in results.docs:\n",
    "    print(result)"
   ]
  },
  {
   "cell_type": "code",
   "execution_count": 464,
   "metadata": {},
   "outputs": [
    {
     "name": "stdout",
     "output_type": "stream",
     "text": [
      "WhatsApp Image 2024-01-30 at 20.15.32_09726ec2.jpg => 88.82 %\n",
      "WhatsApp Image 2024-01-29 at 22.12.45_43ccb782.jpg => 87.69 %\n",
      "WhatsApp Image 2024-01-29 at 22.12.45_219fe705.jpg => 86.06 %\n",
      "moad_pass.jpg => 83.62 %\n",
      "20240123_203124.jpg => 83.42 %\n",
      "WhatsApp Image 2024-01-10 at 11.04.14_0380b28b.jpg => 75.85 %\n",
      "moad.jpg => 73.17 %\n",
      "omar_moad.jpg => 56.51 %\n"
     ]
    }
   ],
   "source": [
    "for i in results.docs:\n",
    "    print(i.id, \"=>\", round(100 - (float(i.distance) * 100), 2), \"%\")"
   ]
  }
 ],
 "metadata": {
  "kernelspec": {
   "display_name": "Python 3",
   "language": "python",
   "name": "python3"
  },
  "language_info": {
   "codemirror_mode": {
    "name": "ipython",
    "version": 3
   },
   "file_extension": ".py",
   "mimetype": "text/x-python",
   "name": "python",
   "nbconvert_exporter": "python",
   "pygments_lexer": "ipython3",
   "version": "3.11.4"
  }
 },
 "nbformat": 4,
 "nbformat_minor": 2
}
